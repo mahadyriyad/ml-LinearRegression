{
 "cells": [
  {
   "cell_type": "code",
   "execution_count": 1,
   "id": "a44e36d4-5dbd-4c8c-a086-9ce094169654",
   "metadata": {},
   "outputs": [
    {
     "name": "stdout",
     "output_type": "stream",
     "text": [
      "Collecting pandas\n",
      "  Downloading pandas-2.3.1-cp312-cp312-win_amd64.whl.metadata (19 kB)\n",
      "Collecting numpy>=1.26.0 (from pandas)\n",
      "  Downloading numpy-2.3.2-cp312-cp312-win_amd64.whl.metadata (60 kB)\n",
      "     ---------------------------------------- 0.0/60.9 kB ? eta -:--:--\n",
      "     -------------------- ------------------- 30.7/60.9 kB 1.4 MB/s eta 0:00:01\n",
      "     ------------------------------- ------ 51.2/60.9 kB 660.6 kB/s eta 0:00:01\n",
      "     -------------------------------------- 60.9/60.9 kB 649.9 kB/s eta 0:00:00\n",
      "Collecting python-dateutil>=2.8.2 (from pandas)\n",
      "  Using cached python_dateutil-2.9.0.post0-py2.py3-none-any.whl.metadata (8.4 kB)\n",
      "Collecting pytz>=2020.1 (from pandas)\n",
      "  Downloading pytz-2025.2-py2.py3-none-any.whl.metadata (22 kB)\n",
      "Collecting tzdata>=2022.7 (from pandas)\n",
      "  Downloading tzdata-2025.2-py2.py3-none-any.whl.metadata (1.4 kB)\n",
      "Collecting six>=1.5 (from python-dateutil>=2.8.2->pandas)\n",
      "  Using cached six-1.17.0-py2.py3-none-any.whl.metadata (1.7 kB)\n",
      "Downloading pandas-2.3.1-cp312-cp312-win_amd64.whl (11.0 MB)\n",
      "   ---------------------------------------- 0.0/11.0 MB ? eta -:--:--\n",
      "   ---------------------------------------- 0.1/11.0 MB 5.1 MB/s eta 0:00:03\n",
      "   ---------------------------------------- 0.1/11.0 MB 1.8 MB/s eta 0:00:07\n",
      "   - -------------------------------------- 0.3/11.0 MB 2.9 MB/s eta 0:00:04\n",
      "   - -------------------------------------- 0.4/11.0 MB 2.9 MB/s eta 0:00:04\n",
      "   -- ------------------------------------- 0.7/11.0 MB 4.2 MB/s eta 0:00:03\n",
      "   -- ------------------------------------- 0.7/11.0 MB 3.9 MB/s eta 0:00:03\n",
      "   --- ------------------------------------ 1.0/11.0 MB 3.7 MB/s eta 0:00:03\n",
      "   ----- ---------------------------------- 1.4/11.0 MB 5.4 MB/s eta 0:00:02\n",
      "   ------- -------------------------------- 2.0/11.0 MB 5.8 MB/s eta 0:00:02\n",
      "   ------- -------------------------------- 2.0/11.0 MB 5.6 MB/s eta 0:00:02\n",
      "   --------- ------------------------------ 2.6/11.0 MB 5.9 MB/s eta 0:00:02\n",
      "   ---------- ----------------------------- 2.9/11.0 MB 6.2 MB/s eta 0:00:02\n",
      "   ---------- ----------------------------- 3.0/11.0 MB 5.7 MB/s eta 0:00:02\n",
      "   ------------ --------------------------- 3.4/11.0 MB 6.0 MB/s eta 0:00:02\n",
      "   -------------- ------------------------- 3.9/11.0 MB 5.9 MB/s eta 0:00:02\n",
      "   -------------- ------------------------- 4.0/11.0 MB 6.0 MB/s eta 0:00:02\n",
      "   -------------- ------------------------- 4.0/11.0 MB 6.0 MB/s eta 0:00:02\n",
      "   --------------- ------------------------ 4.4/11.0 MB 5.5 MB/s eta 0:00:02\n",
      "   ---------------- ----------------------- 4.5/11.0 MB 5.4 MB/s eta 0:00:02\n",
      "   ---------------- ----------------------- 4.6/11.0 MB 5.3 MB/s eta 0:00:02\n",
      "   ----------------- ---------------------- 4.8/11.0 MB 5.2 MB/s eta 0:00:02\n",
      "   ----------------- ---------------------- 4.9/11.0 MB 5.1 MB/s eta 0:00:02\n",
      "   ------------------ --------------------- 5.1/11.0 MB 5.0 MB/s eta 0:00:02\n",
      "   ------------------- -------------------- 5.3/11.0 MB 4.9 MB/s eta 0:00:02\n",
      "   ------------------- -------------------- 5.4/11.0 MB 4.8 MB/s eta 0:00:02\n",
      "   -------------------- ------------------- 5.5/11.0 MB 4.7 MB/s eta 0:00:02\n",
      "   -------------------- ------------------- 5.7/11.0 MB 4.7 MB/s eta 0:00:02\n",
      "   --------------------- ------------------ 5.8/11.0 MB 4.6 MB/s eta 0:00:02\n",
      "   --------------------- ------------------ 6.0/11.0 MB 4.5 MB/s eta 0:00:02\n",
      "   ---------------------- ----------------- 6.1/11.0 MB 4.5 MB/s eta 0:00:02\n",
      "   ----------------------- ---------------- 6.4/11.0 MB 4.5 MB/s eta 0:00:02\n",
      "   ----------------------- ---------------- 6.5/11.0 MB 4.4 MB/s eta 0:00:02\n",
      "   ------------------------ --------------- 6.7/11.0 MB 4.4 MB/s eta 0:00:01\n",
      "   ------------------------ --------------- 6.9/11.0 MB 4.4 MB/s eta 0:00:01\n",
      "   ------------------------- -------------- 7.0/11.0 MB 4.4 MB/s eta 0:00:01\n",
      "   -------------------------- ------------- 7.2/11.0 MB 4.3 MB/s eta 0:00:01\n",
      "   -------------------------- ------------- 7.3/11.0 MB 4.3 MB/s eta 0:00:01\n",
      "   --------------------------- ------------ 7.5/11.0 MB 4.3 MB/s eta 0:00:01\n",
      "   --------------------------- ------------ 7.6/11.0 MB 4.3 MB/s eta 0:00:01\n",
      "   ---------------------------- ----------- 7.8/11.0 MB 4.3 MB/s eta 0:00:01\n",
      "   ---------------------------- ----------- 7.9/11.0 MB 4.2 MB/s eta 0:00:01\n",
      "   ----------------------------- ---------- 8.1/11.0 MB 4.2 MB/s eta 0:00:01\n",
      "   ------------------------------ --------- 8.2/11.0 MB 4.2 MB/s eta 0:00:01\n",
      "   ------------------------------ --------- 8.4/11.0 MB 4.2 MB/s eta 0:00:01\n",
      "   ------------------------------- -------- 8.6/11.0 MB 4.2 MB/s eta 0:00:01\n",
      "   ------------------------------- -------- 8.7/11.0 MB 4.2 MB/s eta 0:00:01\n",
      "   -------------------------------- ------- 8.9/11.0 MB 4.2 MB/s eta 0:00:01\n",
      "   --------------------------------- ------ 9.1/11.0 MB 4.2 MB/s eta 0:00:01\n",
      "   --------------------------------- ------ 9.3/11.0 MB 4.1 MB/s eta 0:00:01\n",
      "   ---------------------------------- ----- 9.5/11.0 MB 4.1 MB/s eta 0:00:01\n",
      "   ----------------------------------- ---- 9.6/11.0 MB 4.1 MB/s eta 0:00:01\n",
      "   ----------------------------------- ---- 9.8/11.0 MB 4.1 MB/s eta 0:00:01\n",
      "   ------------------------------------ --- 10.0/11.0 MB 4.1 MB/s eta 0:00:01\n",
      "   ------------------------------------- -- 10.2/11.0 MB 4.1 MB/s eta 0:00:01\n",
      "   ------------------------------------- -- 10.3/11.0 MB 4.1 MB/s eta 0:00:01\n",
      "   -------------------------------------- - 10.5/11.0 MB 4.1 MB/s eta 0:00:01\n",
      "   -------------------------------------- - 10.7/11.0 MB 4.2 MB/s eta 0:00:01\n",
      "   ---------------------------------------  10.8/11.0 MB 4.1 MB/s eta 0:00:01\n",
      "   ---------------------------------------  11.0/11.0 MB 4.2 MB/s eta 0:00:01\n",
      "   ---------------------------------------- 11.0/11.0 MB 4.1 MB/s eta 0:00:00\n",
      "Downloading numpy-2.3.2-cp312-cp312-win_amd64.whl (12.8 MB)\n",
      "   ---------------------------------------- 0.0/12.8 MB ? eta -:--:--\n",
      "    --------------------------------------- 0.2/12.8 MB 4.6 MB/s eta 0:00:03\n",
      "   - -------------------------------------- 0.4/12.8 MB 4.0 MB/s eta 0:00:04\n",
      "   - -------------------------------------- 0.5/12.8 MB 3.7 MB/s eta 0:00:04\n",
      "   -- ------------------------------------- 0.7/12.8 MB 4.3 MB/s eta 0:00:03\n",
      "   -- ------------------------------------- 0.9/12.8 MB 3.8 MB/s eta 0:00:04\n",
      "   --- ------------------------------------ 1.1/12.8 MB 3.8 MB/s eta 0:00:04\n",
      "   --- ------------------------------------ 1.3/12.8 MB 4.0 MB/s eta 0:00:03\n",
      "   ---- ----------------------------------- 1.5/12.8 MB 4.0 MB/s eta 0:00:03\n",
      "   ----- ---------------------------------- 1.7/12.8 MB 3.9 MB/s eta 0:00:03\n",
      "   ----- ---------------------------------- 1.9/12.8 MB 3.9 MB/s eta 0:00:03\n",
      "   ------ --------------------------------- 2.1/12.8 MB 3.9 MB/s eta 0:00:03\n",
      "   ------ --------------------------------- 2.2/12.8 MB 3.9 MB/s eta 0:00:03\n",
      "   ------ --------------------------------- 2.2/12.8 MB 3.9 MB/s eta 0:00:03\n",
      "   ------- -------------------------------- 2.5/12.8 MB 3.7 MB/s eta 0:00:03\n",
      "   -------- ------------------------------- 2.6/12.8 MB 3.6 MB/s eta 0:00:03\n",
      "   -------- ------------------------------- 2.7/12.8 MB 3.4 MB/s eta 0:00:03\n",
      "   -------- ------------------------------- 2.9/12.8 MB 3.4 MB/s eta 0:00:03\n",
      "   --------- ------------------------------ 3.0/12.8 MB 3.4 MB/s eta 0:00:03\n",
      "   --------- ------------------------------ 3.1/12.8 MB 3.4 MB/s eta 0:00:03\n",
      "   ---------- ----------------------------- 3.2/12.8 MB 3.4 MB/s eta 0:00:03\n",
      "   ---------- ----------------------------- 3.4/12.8 MB 3.4 MB/s eta 0:00:03\n",
      "   ---------- ----------------------------- 3.5/12.8 MB 3.3 MB/s eta 0:00:03\n",
      "   ----------- ---------------------------- 3.6/12.8 MB 3.3 MB/s eta 0:00:03\n",
      "   ----------- ---------------------------- 3.8/12.8 MB 3.3 MB/s eta 0:00:03\n",
      "   ------------ --------------------------- 3.9/12.8 MB 3.3 MB/s eta 0:00:03\n",
      "   ------------ --------------------------- 4.0/12.8 MB 3.3 MB/s eta 0:00:03\n",
      "   ------------- -------------------------- 4.2/12.8 MB 3.2 MB/s eta 0:00:03\n",
      "   ------------- -------------------------- 4.3/12.8 MB 3.2 MB/s eta 0:00:03\n",
      "   ------------- -------------------------- 4.5/12.8 MB 3.2 MB/s eta 0:00:03\n",
      "   -------------- ------------------------- 4.6/12.8 MB 3.2 MB/s eta 0:00:03\n",
      "   -------------- ------------------------- 4.7/12.8 MB 3.2 MB/s eta 0:00:03\n",
      "   --------------- ------------------------ 4.9/12.8 MB 3.2 MB/s eta 0:00:03\n",
      "   --------------- ------------------------ 5.0/12.8 MB 3.2 MB/s eta 0:00:03\n",
      "   ---------------- ----------------------- 5.2/12.8 MB 3.2 MB/s eta 0:00:03\n",
      "   ---------------- ----------------------- 5.2/12.8 MB 3.2 MB/s eta 0:00:03\n",
      "   ----------------- ---------------------- 5.4/12.8 MB 3.2 MB/s eta 0:00:03\n",
      "   ----------------- ---------------------- 5.6/12.8 MB 3.2 MB/s eta 0:00:03\n",
      "   ----------------- ---------------------- 5.6/12.8 MB 3.1 MB/s eta 0:00:03\n",
      "   ------------------ --------------------- 5.8/12.8 MB 3.1 MB/s eta 0:00:03\n",
      "   ------------------ --------------------- 5.8/12.8 MB 3.1 MB/s eta 0:00:03\n",
      "   ------------------ --------------------- 6.0/12.8 MB 3.1 MB/s eta 0:00:03\n",
      "   ------------------ --------------------- 6.1/12.8 MB 3.0 MB/s eta 0:00:03\n",
      "   ------------------- -------------------- 6.2/12.8 MB 3.0 MB/s eta 0:00:03\n",
      "   ------------------- -------------------- 6.2/12.8 MB 3.0 MB/s eta 0:00:03\n",
      "   ------------------- -------------------- 6.4/12.8 MB 3.0 MB/s eta 0:00:03\n",
      "   -------------------- ------------------- 6.5/12.8 MB 3.0 MB/s eta 0:00:03\n",
      "   -------------------- ------------------- 6.6/12.8 MB 3.0 MB/s eta 0:00:03\n",
      "   -------------------- ------------------- 6.7/12.8 MB 2.9 MB/s eta 0:00:03\n",
      "   --------------------- ------------------ 6.8/12.8 MB 2.9 MB/s eta 0:00:03\n",
      "   --------------------- ------------------ 6.9/12.8 MB 2.9 MB/s eta 0:00:03\n",
      "   ---------------------- ----------------- 7.0/12.8 MB 2.9 MB/s eta 0:00:02\n",
      "   ---------------------- ----------------- 7.1/12.8 MB 2.9 MB/s eta 0:00:02\n",
      "   ---------------------- ----------------- 7.3/12.8 MB 2.9 MB/s eta 0:00:02\n",
      "   ----------------------- ---------------- 7.4/12.8 MB 2.9 MB/s eta 0:00:02\n",
      "   ----------------------- ---------------- 7.5/12.8 MB 2.9 MB/s eta 0:00:02\n",
      "   ----------------------- ---------------- 7.6/12.8 MB 2.9 MB/s eta 0:00:02\n",
      "   ------------------------ --------------- 7.7/12.8 MB 2.8 MB/s eta 0:00:02\n",
      "   ------------------------ --------------- 7.8/12.8 MB 2.8 MB/s eta 0:00:02\n",
      "   ------------------------ --------------- 7.9/12.8 MB 2.8 MB/s eta 0:00:02\n",
      "   ------------------------- -------------- 8.0/12.8 MB 2.8 MB/s eta 0:00:02\n",
      "   ------------------------- -------------- 8.2/12.8 MB 2.8 MB/s eta 0:00:02\n",
      "   ------------------------- -------------- 8.3/12.8 MB 2.8 MB/s eta 0:00:02\n",
      "   -------------------------- ------------- 8.4/12.8 MB 2.8 MB/s eta 0:00:02\n",
      "   -------------------------- ------------- 8.5/12.8 MB 2.8 MB/s eta 0:00:02\n",
      "   -------------------------- ------------- 8.6/12.8 MB 2.8 MB/s eta 0:00:02\n",
      "   --------------------------- ------------ 8.7/12.8 MB 2.8 MB/s eta 0:00:02\n",
      "   --------------------------- ------------ 8.8/12.8 MB 2.8 MB/s eta 0:00:02\n",
      "   --------------------------- ------------ 8.9/12.8 MB 2.8 MB/s eta 0:00:02\n",
      "   ---------------------------- ----------- 9.1/12.8 MB 2.8 MB/s eta 0:00:02\n",
      "   ---------------------------- ----------- 9.2/12.8 MB 2.8 MB/s eta 0:00:02\n",
      "   ----------------------------- ---------- 9.3/12.8 MB 2.8 MB/s eta 0:00:02\n",
      "   ----------------------------- ---------- 9.4/12.8 MB 2.8 MB/s eta 0:00:02\n",
      "   ----------------------------- ---------- 9.5/12.8 MB 2.8 MB/s eta 0:00:02\n",
      "   ------------------------------ --------- 9.7/12.8 MB 2.8 MB/s eta 0:00:02\n",
      "   ------------------------------ --------- 9.8/12.8 MB 2.8 MB/s eta 0:00:02\n",
      "   ------------------------------ --------- 9.9/12.8 MB 2.8 MB/s eta 0:00:02\n",
      "   ------------------------------- -------- 10.0/12.8 MB 2.8 MB/s eta 0:00:02\n",
      "   ------------------------------- -------- 10.1/12.8 MB 2.8 MB/s eta 0:00:01\n",
      "   -------------------------------- ------- 10.3/12.8 MB 2.8 MB/s eta 0:00:01\n",
      "   -------------------------------- ------- 10.4/12.8 MB 2.8 MB/s eta 0:00:01\n",
      "   -------------------------------- ------- 10.5/12.8 MB 2.7 MB/s eta 0:00:01\n",
      "   --------------------------------- ------ 10.6/12.8 MB 2.7 MB/s eta 0:00:01\n",
      "   --------------------------------- ------ 10.7/12.8 MB 2.7 MB/s eta 0:00:01\n",
      "   --------------------------------- ------ 10.7/12.8 MB 2.7 MB/s eta 0:00:01\n",
      "   --------------------------------- ------ 10.8/12.8 MB 2.7 MB/s eta 0:00:01\n",
      "   ---------------------------------- ----- 10.9/12.8 MB 2.7 MB/s eta 0:00:01\n",
      "   ---------------------------------- ----- 11.0/12.8 MB 2.6 MB/s eta 0:00:01\n",
      "   ---------------------------------- ----- 11.1/12.8 MB 2.6 MB/s eta 0:00:01\n",
      "   ---------------------------------- ----- 11.2/12.8 MB 2.6 MB/s eta 0:00:01\n",
      "   ----------------------------------- ---- 11.3/12.8 MB 2.6 MB/s eta 0:00:01\n",
      "   ----------------------------------- ---- 11.4/12.8 MB 2.6 MB/s eta 0:00:01\n",
      "   ----------------------------------- ---- 11.5/12.8 MB 2.5 MB/s eta 0:00:01\n",
      "   ------------------------------------ --- 11.5/12.8 MB 2.5 MB/s eta 0:00:01\n",
      "   ------------------------------------ --- 11.7/12.8 MB 2.5 MB/s eta 0:00:01\n",
      "   ------------------------------------ --- 11.7/12.8 MB 2.5 MB/s eta 0:00:01\n",
      "   ------------------------------------ --- 11.7/12.8 MB 2.5 MB/s eta 0:00:01\n",
      "   ------------------------------------ --- 11.8/12.8 MB 2.5 MB/s eta 0:00:01\n",
      "   ------------------------------------- -- 11.9/12.8 MB 2.4 MB/s eta 0:00:01\n",
      "   ------------------------------------- -- 11.9/12.8 MB 2.4 MB/s eta 0:00:01\n",
      "   ------------------------------------- -- 12.0/12.8 MB 2.4 MB/s eta 0:00:01\n",
      "   ------------------------------------- -- 12.0/12.8 MB 2.4 MB/s eta 0:00:01\n",
      "   ------------------------------------- -- 12.1/12.8 MB 2.4 MB/s eta 0:00:01\n",
      "   ------------------------------------- -- 12.1/12.8 MB 2.4 MB/s eta 0:00:01\n",
      "   -------------------------------------- - 12.2/12.8 MB 2.3 MB/s eta 0:00:01\n",
      "   -------------------------------------- - 12.3/12.8 MB 2.3 MB/s eta 0:00:01\n",
      "   -------------------------------------- - 12.4/12.8 MB 2.3 MB/s eta 0:00:01\n",
      "   -------------------------------------- - 12.4/12.8 MB 2.3 MB/s eta 0:00:01\n",
      "   ---------------------------------------  12.5/12.8 MB 2.3 MB/s eta 0:00:01\n",
      "   ---------------------------------------  12.6/12.8 MB 2.3 MB/s eta 0:00:01\n",
      "   ---------------------------------------  12.6/12.8 MB 2.3 MB/s eta 0:00:01\n",
      "   ---------------------------------------  12.7/12.8 MB 2.3 MB/s eta 0:00:01\n",
      "   ---------------------------------------  12.8/12.8 MB 2.3 MB/s eta 0:00:01\n",
      "   ---------------------------------------  12.8/12.8 MB 2.3 MB/s eta 0:00:01\n",
      "   ---------------------------------------- 12.8/12.8 MB 2.2 MB/s eta 0:00:00\n",
      "Using cached python_dateutil-2.9.0.post0-py2.py3-none-any.whl (229 kB)\n",
      "Downloading pytz-2025.2-py2.py3-none-any.whl (509 kB)\n",
      "   ---------------------------------------- 0.0/509.2 kB ? eta -:--:--\n",
      "   ---- ----------------------------------- 61.4/509.2 kB 3.2 MB/s eta 0:00:01\n",
      "   --------- ------------------------------ 122.9/509.2 kB 1.8 MB/s eta 0:00:01\n",
      "   --------- ------------------------------ 122.9/509.2 kB 1.8 MB/s eta 0:00:01\n",
      "   ---------- --------------------------- 143.4/509.2 kB 853.3 kB/s eta 0:00:01\n",
      "   ------------------ --------------------- 235.5/509.2 kB 1.2 MB/s eta 0:00:01\n",
      "   ------------------------ --------------- 307.2/509.2 kB 1.2 MB/s eta 0:00:01\n",
      "   ---------------------------- ----------- 358.4/509.2 kB 1.2 MB/s eta 0:00:01\n",
      "   ------------------------------- -------- 399.4/509.2 kB 1.1 MB/s eta 0:00:01\n",
      "   ----------------------------------- ---- 450.6/509.2 kB 1.1 MB/s eta 0:00:01\n",
      "   ---------------------------------------- 509.2/509.2 kB 1.1 MB/s eta 0:00:00\n",
      "Downloading tzdata-2025.2-py2.py3-none-any.whl (347 kB)\n",
      "   ---------------------------------------- 0.0/347.8 kB ? eta -:--:--\n",
      "   ------- -------------------------------- 61.4/347.8 kB 1.7 MB/s eta 0:00:01\n",
      "   ----------- ---------------------------- 102.4/347.8 kB 1.2 MB/s eta 0:00:01\n",
      "   ----------------- ---------------------- 153.6/347.8 kB 1.1 MB/s eta 0:00:01\n",
      "   ------------------------- -------------- 225.3/347.8 kB 1.3 MB/s eta 0:00:01\n",
      "   ------------------------------ --------- 266.2/347.8 kB 1.2 MB/s eta 0:00:01\n",
      "   ------------------------------------ --- 317.4/347.8 kB 1.2 MB/s eta 0:00:01\n",
      "   ---------------------------------------- 347.8/347.8 kB 1.1 MB/s eta 0:00:00\n",
      "Using cached six-1.17.0-py2.py3-none-any.whl (11 kB)\n",
      "Installing collected packages: pytz, tzdata, six, numpy, python-dateutil, pandas\n"
     ]
    },
    {
     "name": "stderr",
     "output_type": "stream",
     "text": [
      "  WARNING: Failed to write executable - trying to use .deleteme logic\n",
      "ERROR: Could not install packages due to an OSError: [WinError 2] The system cannot find the file specified: 'C:\\\\Python312\\\\Scripts\\\\f2py.exe' -> 'C:\\\\Python312\\\\Scripts\\\\f2py.exe.deleteme'\n",
      "\n",
      "\n",
      "[notice] A new release of pip is available: 24.0 -> 25.2\n",
      "[notice] To update, run: python.exe -m pip install --upgrade pip\n"
     ]
    }
   ],
   "source": [
    "!pip install pandas"
   ]
  },
  {
   "cell_type": "code",
   "execution_count": null,
   "id": "926c8eb6-a16d-4439-b9db-2317cf2499a0",
   "metadata": {},
   "outputs": [],
   "source": []
  },
  {
   "cell_type": "code",
   "execution_count": 5,
   "id": "2c1abded-03ab-46a7-940d-3a0a1e450efa",
   "metadata": {},
   "outputs": [
    {
     "name": "stdout",
     "output_type": "stream",
     "text": [
      "Collecting matplotlib\n",
      "  Downloading matplotlib-3.10.5-cp312-cp312-win_amd64.whl.metadata (11 kB)\n",
      "Collecting contourpy>=1.0.1 (from matplotlib)\n",
      "  Downloading contourpy-1.3.3-cp312-cp312-win_amd64.whl.metadata (5.5 kB)\n",
      "Collecting cycler>=0.10 (from matplotlib)\n",
      "  Downloading cycler-0.12.1-py3-none-any.whl.metadata (3.8 kB)\n",
      "Collecting fonttools>=4.22.0 (from matplotlib)\n",
      "  Downloading fonttools-4.59.0-cp312-cp312-win_amd64.whl.metadata (110 kB)\n",
      "     ---------------------------------------- 0.0/110.1 kB ? eta -:--:--\n",
      "     --- ------------------------------------ 10.2/110.1 kB ? eta -:--:--\n",
      "     ------------- ----------------------- 41.0/110.1 kB 393.8 kB/s eta 0:00:01\n",
      "     --------------------------------- -- 102.4/110.1 kB 737.3 kB/s eta 0:00:01\n",
      "     ------------------------------------ 110.1/110.1 kB 712.9 kB/s eta 0:00:00\n",
      "Collecting kiwisolver>=1.3.1 (from matplotlib)\n",
      "  Downloading kiwisolver-1.4.8-cp312-cp312-win_amd64.whl.metadata (6.3 kB)\n",
      "Requirement already satisfied: numpy>=1.23 in c:\\python312\\lib\\site-packages (from matplotlib) (2.3.2)\n",
      "Collecting packaging>=20.0 (from matplotlib)\n",
      "  Using cached packaging-25.0-py3-none-any.whl.metadata (3.3 kB)\n",
      "Collecting pillow>=8 (from matplotlib)\n",
      "  Downloading pillow-11.3.0-cp312-cp312-win_amd64.whl.metadata (9.2 kB)\n",
      "Collecting pyparsing>=2.3.1 (from matplotlib)\n",
      "  Downloading pyparsing-3.2.3-py3-none-any.whl.metadata (5.0 kB)\n",
      "Collecting python-dateutil>=2.7 (from matplotlib)\n",
      "  Using cached python_dateutil-2.9.0.post0-py2.py3-none-any.whl.metadata (8.4 kB)\n",
      "Requirement already satisfied: six>=1.5 in c:\\python312\\lib\\site-packages (from python-dateutil>=2.7->matplotlib) (1.17.0)\n",
      "Downloading matplotlib-3.10.5-cp312-cp312-win_amd64.whl (8.1 MB)\n",
      "   ---------------------------------------- 0.0/8.1 MB ? eta -:--:--\n",
      "    --------------------------------------- 0.1/8.1 MB 7.5 MB/s eta 0:00:02\n",
      "   - -------------------------------------- 0.4/8.1 MB 3.8 MB/s eta 0:00:03\n",
      "   -- ------------------------------------- 0.5/8.1 MB 3.4 MB/s eta 0:00:03\n",
      "   ---- ----------------------------------- 0.9/8.1 MB 5.2 MB/s eta 0:00:02\n",
      "   -------- ------------------------------- 1.7/8.1 MB 7.2 MB/s eta 0:00:01\n",
      "   -------- ------------------------------- 1.7/8.1 MB 7.2 MB/s eta 0:00:01\n",
      "   ----------------- ---------------------- 3.5/8.1 MB 10.7 MB/s eta 0:00:01\n",
      "   ------------------ --------------------- 3.8/8.1 MB 11.0 MB/s eta 0:00:01\n",
      "   ----------------------- ---------------- 4.8/8.1 MB 11.8 MB/s eta 0:00:01\n",
      "   ---------------------------- ----------- 5.7/8.1 MB 12.6 MB/s eta 0:00:01\n",
      "   -------------------------------- ------- 6.5/8.1 MB 13.1 MB/s eta 0:00:01\n",
      "   ------------------------------------- -- 7.6/8.1 MB 13.9 MB/s eta 0:00:01\n",
      "   ---------------------------------------  8.1/8.1 MB 14.0 MB/s eta 0:00:01\n",
      "   ---------------------------------------- 8.1/8.1 MB 13.0 MB/s eta 0:00:00\n",
      "Downloading contourpy-1.3.3-cp312-cp312-win_amd64.whl (226 kB)\n",
      "   ---------------------------------------- 0.0/226.6 kB ? eta -:--:--\n",
      "   --------------------------------------- 226.6/226.6 kB 14.4 MB/s eta 0:00:00\n",
      "Downloading cycler-0.12.1-py3-none-any.whl (8.3 kB)\n",
      "Downloading fonttools-4.59.0-cp312-cp312-win_amd64.whl (2.2 MB)\n",
      "   ---------------------------------------- 0.0/2.2 MB ? eta -:--:--\n",
      "   ------------------ --------------------- 1.0/2.2 MB 33.4 MB/s eta 0:00:01\n",
      "   --------------------------------- ------ 1.9/2.2 MB 23.9 MB/s eta 0:00:01\n",
      "   ---------------------------------------  2.2/2.2 MB 20.5 MB/s eta 0:00:01\n",
      "   ---------------------------------------- 2.2/2.2 MB 15.9 MB/s eta 0:00:00\n",
      "Downloading kiwisolver-1.4.8-cp312-cp312-win_amd64.whl (71 kB)\n",
      "   ---------------------------------------- 0.0/71.9 kB ? eta -:--:--\n",
      "   ---------------------------------------- 71.9/71.9 kB 2.0 MB/s eta 0:00:00\n",
      "Using cached packaging-25.0-py3-none-any.whl (66 kB)\n",
      "Downloading pillow-11.3.0-cp312-cp312-win_amd64.whl (7.0 MB)\n",
      "   ---------------------------------------- 0.0/7.0 MB ? eta -:--:--\n",
      "   -- ------------------------------------- 0.5/7.0 MB 29.4 MB/s eta 0:00:01\n",
      "   -- ------------------------------------- 0.5/7.0 MB 29.4 MB/s eta 0:00:01\n",
      "   -------- ------------------------------- 1.4/7.0 MB 9.9 MB/s eta 0:00:01\n",
      "   --------------- ------------------------ 2.8/7.0 MB 14.7 MB/s eta 0:00:01\n",
      "   ------------------- -------------------- 3.4/7.0 MB 15.3 MB/s eta 0:00:01\n",
      "   -------------------- ------------------- 3.6/7.0 MB 12.7 MB/s eta 0:00:01\n",
      "   ------------------------- -------------- 4.4/7.0 MB 13.3 MB/s eta 0:00:01\n",
      "   ---------------------------- ----------- 5.0/7.0 MB 13.2 MB/s eta 0:00:01\n",
      "   -------------------------------- ------- 5.7/7.0 MB 13.6 MB/s eta 0:00:01\n",
      "   ------------------------------------ --- 6.5/7.0 MB 13.8 MB/s eta 0:00:01\n",
      "   ---------------------------------------  7.0/7.0 MB 13.9 MB/s eta 0:00:01\n",
      "   ---------------------------------------  7.0/7.0 MB 13.5 MB/s eta 0:00:01\n",
      "   ---------------------------------------- 7.0/7.0 MB 12.4 MB/s eta 0:00:00\n",
      "Downloading pyparsing-3.2.3-py3-none-any.whl (111 kB)\n",
      "   ---------------------------------------- 0.0/111.1 kB ? eta -:--:--\n",
      "   ---------------------------------------- 111.1/111.1 kB 6.3 MB/s eta 0:00:00\n",
      "Using cached python_dateutil-2.9.0.post0-py2.py3-none-any.whl (229 kB)\n",
      "Installing collected packages: python-dateutil, pyparsing, pillow, packaging, kiwisolver, fonttools, cycler, contourpy, matplotlib\n"
     ]
    },
    {
     "name": "stderr",
     "output_type": "stream",
     "text": [
      "ERROR: Could not install packages due to an OSError: [WinError 5] Access is denied: 'C:\\\\Python312\\\\share'\n",
      "Consider using the `--user` option or check the permissions.\n",
      "\n",
      "\n",
      "[notice] A new release of pip is available: 24.0 -> 25.2\n",
      "[notice] To update, run: python.exe -m pip install --upgrade pip\n"
     ]
    }
   ],
   "source": [
    "!pip install matplotlib"
   ]
  },
  {
   "cell_type": "code",
   "execution_count": 3,
   "id": "6e4ac19d-7749-44f7-ab86-408f23f02fa6",
   "metadata": {},
   "outputs": [
    {
     "name": "stdout",
     "output_type": "stream",
     "text": [
      "Collecting sklearn\n",
      "  Downloading sklearn-0.0.post12.tar.gz (2.6 kB)\n",
      "  Installing build dependencies: started\n",
      "  Installing build dependencies: finished with status 'done'\n",
      "  Getting requirements to build wheel: started\n",
      "  Getting requirements to build wheel: finished with status 'error'\n"
     ]
    },
    {
     "name": "stderr",
     "output_type": "stream",
     "text": [
      "  error: subprocess-exited-with-error\n",
      "  \n",
      "  Getting requirements to build wheel did not run successfully.\n",
      "  exit code: 1\n",
      "  \n",
      "  [15 lines of output]\n",
      "  The 'sklearn' PyPI package is deprecated, use 'scikit-learn'\n",
      "  rather than 'sklearn' for pip commands.\n",
      "  \n",
      "  Here is how to fix this error in the main use cases:\n",
      "  - use 'pip install scikit-learn' rather than 'pip install sklearn'\n",
      "  - replace 'sklearn' by 'scikit-learn' in your pip requirements files\n",
      "    (requirements.txt, setup.py, setup.cfg, Pipfile, etc ...)\n",
      "  - if the 'sklearn' package is used by one of your dependencies,\n",
      "    it would be great if you take some time to track which package uses\n",
      "    'sklearn' instead of 'scikit-learn' and report it to their issue tracker\n",
      "  - as a last resort, set the environment variable\n",
      "    SKLEARN_ALLOW_DEPRECATED_SKLEARN_PACKAGE_INSTALL=True to avoid this error\n",
      "  \n",
      "  More information is available at\n",
      "  https://github.com/scikit-learn/sklearn-pypi-package\n",
      "  [end of output]\n",
      "  \n",
      "  note: This error originates from a subprocess, and is likely not a problem with pip.\n",
      "error: subprocess-exited-with-error\n",
      "\n",
      "Getting requirements to build wheel did not run successfully.\n",
      "exit code: 1\n",
      "\n",
      "See above for output.\n",
      "\n",
      "note: This error originates from a subprocess, and is likely not a problem with pip.\n",
      "\n",
      "[notice] A new release of pip is available: 24.0 -> 25.2\n",
      "[notice] To update, run: python.exe -m pip install --upgrade pip\n"
     ]
    }
   ],
   "source": [
    "!pip install sklearn"
   ]
  },
  {
   "cell_type": "code",
   "execution_count": 6,
   "id": "87a3ad8e-5287-479a-9531-9dd963d0f5d1",
   "metadata": {},
   "outputs": [],
   "source": [
    "import pandas as pd\n",
    "from matplotlib import pyplot as pit"
   ]
  },
  {
   "cell_type": "code",
   "execution_count": 7,
   "id": "09de4308-c2ae-4c7f-9aec-16a45141b697",
   "metadata": {},
   "outputs": [],
   "source": [
    "df= pd.read_csv(\"leni1.csv\")"
   ]
  },
  {
   "cell_type": "code",
   "execution_count": 8,
   "id": "61e3d1e8-a260-49a0-923f-93d579539b16",
   "metadata": {},
   "outputs": [
    {
     "data": {
      "text/html": [
       "<div>\n",
       "<style scoped>\n",
       "    .dataframe tbody tr th:only-of-type {\n",
       "        vertical-align: middle;\n",
       "    }\n",
       "\n",
       "    .dataframe tbody tr th {\n",
       "        vertical-align: top;\n",
       "    }\n",
       "\n",
       "    .dataframe thead th {\n",
       "        text-align: right;\n",
       "    }\n",
       "</style>\n",
       "<table border=\"1\" class=\"dataframe\">\n",
       "  <thead>\n",
       "    <tr style=\"text-align: right;\">\n",
       "      <th></th>\n",
       "      <th>Date</th>\n",
       "      <th>Starting (USD)</th>\n",
       "      <th>Ending (USD)</th>\n",
       "    </tr>\n",
       "  </thead>\n",
       "  <tbody>\n",
       "    <tr>\n",
       "      <th>0</th>\n",
       "      <td>01.01.24</td>\n",
       "      <td>16800</td>\n",
       "      <td>16500</td>\n",
       "    </tr>\n",
       "    <tr>\n",
       "      <th>1</th>\n",
       "      <td>01.12.23</td>\n",
       "      <td>15900</td>\n",
       "      <td>16100</td>\n",
       "    </tr>\n",
       "    <tr>\n",
       "      <th>2</th>\n",
       "      <td>01.11.23</td>\n",
       "      <td>15800</td>\n",
       "      <td>15300</td>\n",
       "    </tr>\n",
       "    <tr>\n",
       "      <th>3</th>\n",
       "      <td>01.10.23</td>\n",
       "      <td>16100</td>\n",
       "      <td>16200</td>\n",
       "    </tr>\n",
       "    <tr>\n",
       "      <th>4</th>\n",
       "      <td>01.09.23</td>\n",
       "      <td>16300</td>\n",
       "      <td>15700</td>\n",
       "    </tr>\n",
       "  </tbody>\n",
       "</table>\n",
       "</div>"
      ],
      "text/plain": [
       "       Date  Starting (USD)  Ending (USD)\n",
       "0  01.01.24           16800         16500\n",
       "1  01.12.23           15900         16100\n",
       "2  01.11.23           15800         15300\n",
       "3  01.10.23           16100         16200\n",
       "4  01.09.23           16300         15700"
      ]
     },
     "execution_count": 8,
     "metadata": {},
     "output_type": "execute_result"
    }
   ],
   "source": [
    "df.head()"
   ]
  },
  {
   "cell_type": "code",
   "execution_count": 9,
   "id": "5130c6f1-8312-4e7d-9c62-120587c255f4",
   "metadata": {},
   "outputs": [
    {
     "data": {
      "text/plain": [
       "Date              0\n",
       "Starting (USD)    0\n",
       "Ending (USD)      0\n",
       "dtype: int64"
      ]
     },
     "execution_count": 9,
     "metadata": {},
     "output_type": "execute_result"
    }
   ],
   "source": [
    "df.isnull().sum()"
   ]
  },
  {
   "cell_type": "code",
   "execution_count": 10,
   "id": "58f196d4-c0ac-405b-bdb4-6a5c46baa076",
   "metadata": {},
   "outputs": [],
   "source": [
    "df= df.drop(columns =[\"Date\"])"
   ]
  },
  {
   "cell_type": "code",
   "execution_count": 11,
   "id": "c1e36970-7364-46ce-a471-cb297cb9326c",
   "metadata": {},
   "outputs": [
    {
     "data": {
      "text/html": [
       "<div>\n",
       "<style scoped>\n",
       "    .dataframe tbody tr th:only-of-type {\n",
       "        vertical-align: middle;\n",
       "    }\n",
       "\n",
       "    .dataframe tbody tr th {\n",
       "        vertical-align: top;\n",
       "    }\n",
       "\n",
       "    .dataframe thead th {\n",
       "        text-align: right;\n",
       "    }\n",
       "</style>\n",
       "<table border=\"1\" class=\"dataframe\">\n",
       "  <thead>\n",
       "    <tr style=\"text-align: right;\">\n",
       "      <th></th>\n",
       "      <th>Starting (USD)</th>\n",
       "      <th>Ending (USD)</th>\n",
       "    </tr>\n",
       "  </thead>\n",
       "  <tbody>\n",
       "    <tr>\n",
       "      <th>0</th>\n",
       "      <td>16800</td>\n",
       "      <td>16500</td>\n",
       "    </tr>\n",
       "    <tr>\n",
       "      <th>1</th>\n",
       "      <td>15900</td>\n",
       "      <td>16100</td>\n",
       "    </tr>\n",
       "    <tr>\n",
       "      <th>2</th>\n",
       "      <td>15800</td>\n",
       "      <td>15300</td>\n",
       "    </tr>\n",
       "    <tr>\n",
       "      <th>3</th>\n",
       "      <td>16100</td>\n",
       "      <td>16200</td>\n",
       "    </tr>\n",
       "    <tr>\n",
       "      <th>4</th>\n",
       "      <td>16300</td>\n",
       "      <td>15700</td>\n",
       "    </tr>\n",
       "  </tbody>\n",
       "</table>\n",
       "</div>"
      ],
      "text/plain": [
       "   Starting (USD)  Ending (USD)\n",
       "0           16800         16500\n",
       "1           15900         16100\n",
       "2           15800         15300\n",
       "3           16100         16200\n",
       "4           16300         15700"
      ]
     },
     "execution_count": 11,
     "metadata": {},
     "output_type": "execute_result"
    }
   ],
   "source": [
    "df.head()"
   ]
  },
  {
   "cell_type": "code",
   "execution_count": 12,
   "id": "b1302713-85d9-4437-94e0-77ef4536573a",
   "metadata": {},
   "outputs": [
    {
     "data": {
      "text/plain": [
       "<matplotlib.collections.PathCollection at 0x270e8756a50>"
      ]
     },
     "execution_count": 12,
     "metadata": {},
     "output_type": "execute_result"
    },
    {
     "data": {
      "image/png": "[encoded data removed]",
      "text/plain": [
       "<Figure size 640x480 with 1 Axes>"
      ]
     },
     "metadata": {},
     "output_type": "display_data"
    }
   ],
   "source": [
    "pit.scatter(df['Starting (USD)'],df['Ending (USD)'])"
   ]
  },
  {
   "cell_type": "code",
   "execution_count": 13,
   "id": "3f00ac57-0b6f-471e-848d-3bdfe9552cf2",
   "metadata": {},
   "outputs": [
    {
     "data": {
      "text/plain": [
       "Text(0.5, 0, 'Starting (USD)')"
      ]
     },
     "execution_count": 13,
     "metadata": {},
     "output_type": "execute_result"
    },
    {
     "data": {
      "image/png": "[encoded data removed]",
      "text/plain": [
       "<Figure size 640x480 with 1 Axes>"
      ]
     },
     "metadata": {},
     "output_type": "display_data"
    }
   ],
   "source": [
    "pit.xlabel('Starting (USD)')"
   ]
  },
  {
   "cell_type": "code",
   "execution_count": 14,
   "id": "598673c3-98f0-4a23-bc78-a581e6d250d9",
   "metadata": {},
   "outputs": [
    {
     "data": {
      "text/plain": [
       "Text(0, 0.5, \"['Ending (USD)']\")"
      ]
     },
     "execution_count": 14,
     "metadata": {},
     "output_type": "execute_result"
    },
    {
     "data": {
      "image/png": "[encoded data removed]",
      "text/plain": [
       "<Figure size 640x480 with 1 Axes>"
      ]
     },
     "metadata": {},
     "output_type": "display_data"
    }
   ],
   "source": [
    "pit.ylabel(['Ending (USD)'])"
   ]
  },
  {
   "cell_type": "code",
   "execution_count": 15,
   "id": "72513135-0a36-47cd-8c4b-33587d1eae18",
   "metadata": {},
   "outputs": [
    {
     "data": {
      "text/plain": [
       "Text(0.5, 1.0, \"['NASDAQ100 Stock prices']\")"
      ]
     },
     "execution_count": 15,
     "metadata": {},
     "output_type": "execute_result"
    },
    {
     "data": {
      "image/png": "[encoded data removed]",
      "text/plain": [
       "<Figure size 640x480 with 1 Axes>"
      ]
     },
     "metadata": {},
     "output_type": "display_data"
    }
   ],
   "source": [
    "pit.title([\"NASDAQ100 Stock prices\"])"
   ]
  },
  {
   "cell_type": "code",
   "execution_count": 16,
   "id": "c22886ea-fc5c-4bd2-a93e-1d5cb1dce182",
   "metadata": {},
   "outputs": [
    {
     "data": {
      "text/plain": [
       "Text(0.5, 1.0, \"['NASDAQ100 Stock prices']\")"
      ]
     },
     "execution_count": 16,
     "metadata": {},
     "output_type": "execute_result"
    },
    {
     "data": {
      "image/png": "[encoded data removed]",
      "text/plain": [
       "<Figure size 640x480 with 1 Axes>"
      ]
     },
     "metadata": {},
     "output_type": "display_data"
    }
   ],
   "source": [
    "pit.scatter(df['Starting (USD)'],df['Ending (USD)'])\n",
    "pit.xlabel('Starting (USD)')\n",
    "pit.ylabel(['Ending (USD)'])\n",
    "pit.title([\"NASDAQ100 Stock prices\"])"
   ]
  },
  {
   "cell_type": "code",
   "execution_count": 45,
   "id": "e77c003e-fa83-42f7-b0b0-9ff16bb4cb2f",
   "metadata": {},
   "outputs": [],
   "source": [
    "x= df[[\"Starting (USD)\"]]"
   ]
  },
  {
   "cell_type": "code",
   "execution_count": 46,
   "id": "2b6d21b8-137f-4ad0-82fd-b38939bfea26",
   "metadata": {},
   "outputs": [
    {
     "data": {
      "text/html": [
       "<div>\n",
       "<style scoped>\n",
       "    .dataframe tbody tr th:only-of-type {\n",
       "        vertical-align: middle;\n",
       "    }\n",
       "\n",
       "    .dataframe tbody tr th {\n",
       "        vertical-align: top;\n",
       "    }\n",
       "\n",
       "    .dataframe thead th {\n",
       "        text-align: right;\n",
       "    }\n",
       "</style>\n",
       "<table border=\"1\" class=\"dataframe\">\n",
       "  <thead>\n",
       "    <tr style=\"text-align: right;\">\n",
       "      <th></th>\n",
       "      <th>Starting (USD)</th>\n",
       "    </tr>\n",
       "  </thead>\n",
       "  <tbody>\n",
       "    <tr>\n",
       "      <th>0</th>\n",
       "      <td>16800</td>\n",
       "    </tr>\n",
       "    <tr>\n",
       "      <th>1</th>\n",
       "      <td>15900</td>\n",
       "    </tr>\n",
       "    <tr>\n",
       "      <th>2</th>\n",
       "      <td>15800</td>\n",
       "    </tr>\n",
       "    <tr>\n",
       "      <th>3</th>\n",
       "      <td>16100</td>\n",
       "    </tr>\n",
       "    <tr>\n",
       "      <th>4</th>\n",
       "      <td>16300</td>\n",
       "    </tr>\n",
       "  </tbody>\n",
       "</table>\n",
       "</div>"
      ],
      "text/plain": [
       "   Starting (USD)\n",
       "0           16800\n",
       "1           15900\n",
       "2           15800\n",
       "3           16100\n",
       "4           16300"
      ]
     },
     "execution_count": 46,
     "metadata": {},
     "output_type": "execute_result"
    }
   ],
   "source": [
    "x.head()"
   ]
  },
  {
   "cell_type": "code",
   "execution_count": 47,
   "id": "ad80cd02-b449-4892-82cb-20f21f733822",
   "metadata": {},
   "outputs": [],
   "source": [
    "y= df[['Ending (USD)']]"
   ]
  },
  {
   "cell_type": "code",
   "execution_count": 48,
   "id": "245ddba5-167a-4b33-a678-ca66c7372355",
   "metadata": {},
   "outputs": [
    {
     "data": {
      "text/html": [
       "<div>\n",
       "<style scoped>\n",
       "    .dataframe tbody tr th:only-of-type {\n",
       "        vertical-align: middle;\n",
       "    }\n",
       "\n",
       "    .dataframe tbody tr th {\n",
       "        vertical-align: top;\n",
       "    }\n",
       "\n",
       "    .dataframe thead th {\n",
       "        text-align: right;\n",
       "    }\n",
       "</style>\n",
       "<table border=\"1\" class=\"dataframe\">\n",
       "  <thead>\n",
       "    <tr style=\"text-align: right;\">\n",
       "      <th></th>\n",
       "      <th>Ending (USD)</th>\n",
       "    </tr>\n",
       "  </thead>\n",
       "  <tbody>\n",
       "    <tr>\n",
       "      <th>0</th>\n",
       "      <td>16500</td>\n",
       "    </tr>\n",
       "    <tr>\n",
       "      <th>1</th>\n",
       "      <td>16100</td>\n",
       "    </tr>\n",
       "    <tr>\n",
       "      <th>2</th>\n",
       "      <td>15300</td>\n",
       "    </tr>\n",
       "    <tr>\n",
       "      <th>3</th>\n",
       "      <td>16200</td>\n",
       "    </tr>\n",
       "    <tr>\n",
       "      <th>4</th>\n",
       "      <td>15700</td>\n",
       "    </tr>\n",
       "  </tbody>\n",
       "</table>\n",
       "</div>"
      ],
      "text/plain": [
       "   Ending (USD)\n",
       "0         16500\n",
       "1         16100\n",
       "2         15300\n",
       "3         16200\n",
       "4         15700"
      ]
     },
     "execution_count": 48,
     "metadata": {},
     "output_type": "execute_result"
    }
   ],
   "source": [
    "y.head()"
   ]
  },
  {
   "cell_type": "markdown",
   "id": "0700f133-f3b4-40af-8dc5-00a5b23939dc",
   "metadata": {},
   "source": [
    "Linear Regration"
   ]
  },
  {
   "cell_type": "code",
   "execution_count": 25,
   "id": "72b5d36a-7f3d-40fa-8919-8ac662ec8744",
   "metadata": {},
   "outputs": [],
   "source": [
    "from sklearn.linear_model import LinearRegression"
   ]
  },
  {
   "cell_type": "code",
   "execution_count": 43,
   "id": "c06fc026-6015-4895-9cc0-1679e8c64b0e",
   "metadata": {},
   "outputs": [],
   "source": [
    "r=LinearRegression()"
   ]
  },
  {
   "cell_type": "code",
   "execution_count": 26,
   "id": "7603f214-c247-436f-8b8b-b5448b9f5f2f",
   "metadata": {},
   "outputs": [
    {
     "data": {
      "text/plain": [
       "np.float64(16195.833333333334)"
      ]
     },
     "execution_count": 26,
     "metadata": {},
     "output_type": "execute_result"
    }
   ],
   "source": [
    "x.mean()"
   ]
  },
  {
   "cell_type": "code",
   "execution_count": 27,
   "id": "f02faf01-52d7-4fab-a566-bdd1e1990f03",
   "metadata": {},
   "outputs": [
    {
     "data": {
      "text/plain": [
       "np.float64(15975.0)"
      ]
     },
     "execution_count": 27,
     "metadata": {},
     "output_type": "execute_result"
    }
   ],
   "source": [
    "y.mean()"
   ]
  },
  {
   "cell_type": "code",
   "execution_count": 30,
   "id": "ba947b92-da01-41a0-b674-bc54017dd8bc",
   "metadata": {},
   "outputs": [
    {
     "data": {
      "text/plain": [
       "<matplotlib.collections.PathCollection at 0x270ec646710>"
      ]
     },
     "execution_count": 30,
     "metadata": {},
     "output_type": "execute_result"
    },
    {
     "data": {
      "image/png": "[encoded data removed]",
      "text/plain": [
       "<Figure size 640x480 with 1 Axes>"
      ]
     },
     "metadata": {},
     "output_type": "display_data"
    }
   ],
   "source": [
    "pit.scatter(x.mean() , y.mean() ,color=\"red\")"
   ]
  },
  {
   "cell_type": "code",
   "execution_count": 31,
   "id": "e661a7d5-1ff5-45dc-b937-0631c2fe3be0",
   "metadata": {},
   "outputs": [
    {
     "data": {
      "text/plain": [
       "<matplotlib.collections.PathCollection at 0x270ec7fb610>"
      ]
     },
     "execution_count": 31,
     "metadata": {},
     "output_type": "execute_result"
    },
    {
     "data": {
      "image/png": "[encoded data removed]",
      "text/plain": [
       "<Figure size 640x480 with 1 Axes>"
      ]
     },
     "metadata": {},
     "output_type": "display_data"
    }
   ],
   "source": [
    "pit.scatter(df['Starting (USD)'],df['Ending (USD)'])\n",
    "pit.xlabel('Starting (USD)')\n",
    "pit.ylabel(['Ending (USD)'])\n",
    "pit.title([\"NASDAQ100 Stock prices\"])\n",
    "pit.scatter(x.mean() , y.mean() ,color=\"red\")"
   ]
  },
  {
   "cell_type": "code",
   "execution_count": 49,
   "id": "1aaa04bc-2cfd-403e-9eeb-4517abb272bb",
   "metadata": {},
   "outputs": [
    {
     "data": {
      "text/html": [
       "<style>#sk-container-id-1 {\n",
       "  /* Definition of color scheme common for light and dark mode */\n",
       "  --sklearn-color-text: #000;\n",
       "  --sklearn-color-text-muted: #666;\n",
       "  --sklearn-color-line: gray;\n",
       "  /* Definition of color scheme for unfitted estimators */\n",
       "  --sklearn-color-unfitted-level-0: #fff5e6;\n",
       "  --sklearn-color-unfitted-level-1: #f6e4d2;\n",
       "  --sklearn-color-unfitted-level-2: #ffe0b3;\n",
       "  --sklearn-color-unfitted-level-3: chocolate;\n",
       "  /* Definition of color scheme for fitted estimators */\n",
       "  --sklearn-color-fitted-level-0: #f0f8ff;\n",
       "  --sklearn-color-fitted-level-1: #d4ebff;\n",
       "  --sklearn-color-fitted-level-2: #b3dbfd;\n",
       "  --sklearn-color-fitted-level-3: cornflowerblue;\n",
       "\n",
       "  /* Specific color for light theme */\n",
       "  --sklearn-color-text-on-default-background: var(--sg-text-color, var(--theme-code-foreground, var(--jp-content-font-color1, black)));\n",
       "  --sklearn-color-background: var(--sg-background-color, var(--theme-background, var(--jp-layout-color0, white)));\n",
       "  --sklearn-color-border-box: var(--sg-text-color, var(--theme-code-foreground, var(--jp-content-font-color1, black)));\n",
       "  --sklearn-color-icon: #696969;\n",
       "\n",
       "  @media (prefers-color-scheme: dark) {\n",
       "    /* Redefinition of color scheme for dark theme */\n",
       "    --sklearn-color-text-on-default-background: var(--sg-text-color, var(--theme-code-foreground, var(--jp-content-font-color1, white)));\n",
       "    --sklearn-color-background: var(--sg-background-color, var(--theme-background, var(--jp-layout-color0, #111)));\n",
       "    --sklearn-color-border-box: var(--sg-text-color, var(--theme-code-foreground, var(--jp-content-font-color1, white)));\n",
       "    --sklearn-color-icon: #878787;\n",
       "  }\n",
       "}\n",
       "\n",
       "#sk-container-id-1 {\n",
       "  color: var(--sklearn-color-text);\n",
       "}\n",
       "\n",
       "#sk-container-id-1 pre {\n",
       "  padding: 0;\n",
       "}\n",
       "\n",
       "#sk-container-id-1 input.sk-hidden--visually {\n",
       "  border: 0;\n",
       "  clip: rect(1px 1px 1px 1px);\n",
       "  clip: rect(1px, 1px, 1px, 1px);\n",
       "  height: 1px;\n",
       "  margin: -1px;\n",
       "  overflow: hidden;\n",
       "  padding: 0;\n",
       "  position: absolute;\n",
       "  width: 1px;\n",
       "}\n",
       "\n",
       "#sk-container-id-1 div.sk-dashed-wrapped {\n",
       "  border: 1px dashed var(--sklearn-color-line);\n",
       "  margin: 0 0.4em 0.5em 0.4em;\n",
       "  box-sizing: border-box;\n",
       "  padding-bottom: 0.4em;\n",
       "  background-color: var(--sklearn-color-background);\n",
       "}\n",
       "\n",
       "#sk-container-id-1 div.sk-container {\n",
       "  /* jupyter's `normalize.less` sets `[hidden] { display: none; }`\n",
       "     but bootstrap.min.css set `[hidden] { display: none !important; }`\n",
       "     so we also need the `!important` here to be able to override the\n",
       "     default hidden behavior on the sphinx rendered scikit-learn.org.\n",
       "     See: https://github.com/scikit-learn/scikit-learn/issues/21755 */\n",
       "  display: inline-block !important;\n",
       "  position: relative;\n",
       "}\n",
       "\n",
       "#sk-container-id-1 div.sk-text-repr-fallback {\n",
       "  display: none;\n",
       "}\n",
       "\n",
       "div.sk-parallel-item,\n",
       "div.sk-serial,\n",
       "div.sk-item {\n",
       "  /* draw centered vertical line to link estimators */\n",
       "  background-image: linear-gradient(var(--sklearn-color-text-on-default-background), var(--sklearn-color-text-on-default-background));\n",
       "  background-size: 2px 100%;\n",
       "  background-repeat: no-repeat;\n",
       "  background-position: center center;\n",
       "}\n",
       "\n",
       "/* Parallel-specific style estimator block */\n",
       "\n",
       "#sk-container-id-1 div.sk-parallel-item::after {\n",
       "  content: \"\";\n",
       "  width: 100%;\n",
       "  border-bottom: 2px solid var(--sklearn-color-text-on-default-background);\n",
       "  flex-grow: 1;\n",
       "}\n",
       "\n",
       "#sk-container-id-1 div.sk-parallel {\n",
       "  display: flex;\n",
       "  align-items: stretch;\n",
       "  justify-content: center;\n",
       "  background-color: var(--sklearn-color-background);\n",
       "  position: relative;\n",
       "}\n",
       "\n",
       "#sk-container-id-1 div.sk-parallel-item {\n",
       "  display: flex;\n",
       "  flex-direction: column;\n",
       "}\n",
       "\n",
       "#sk-container-id-1 div.sk-parallel-item:first-child::after {\n",
       "  align-self: flex-end;\n",
       "  width: 50%;\n",
       "}\n",
       "\n",
       "#sk-container-id-1 div.sk-parallel-item:last-child::after {\n",
       "  align-self: flex-start;\n",
       "  width: 50%;\n",
       "}\n",
       "\n",
       "#sk-container-id-1 div.sk-parallel-item:only-child::after {\n",
       "  width: 0;\n",
       "}\n",
       "\n",
       "/* Serial-specific style estimator block */\n",
       "\n",
       "#sk-container-id-1 div.sk-serial {\n",
       "  display: flex;\n",
       "  flex-direction: column;\n",
       "  align-items: center;\n",
       "  background-color: var(--sklearn-color-background);\n",
       "  padding-right: 1em;\n",
       "  padding-left: 1em;\n",
       "}\n",
       "\n",
       "\n",
       "/* Toggleable style: style used for estimator/Pipeline/ColumnTransformer box that is\n",
       "clickable and can be expanded/collapsed.\n",
       "- Pipeline and ColumnTransformer use this feature and define the default style\n",
       "- Estimators will overwrite some part of the style using the `sk-estimator` class\n",
       "*/\n",
       "\n",
       "/* Pipeline and ColumnTransformer style (default) */\n",
       "\n",
       "#sk-container-id-1 div.sk-toggleable {\n",
       "  /* Default theme specific background. It is overwritten whether we have a\n",
       "  specific estimator or a Pipeline/ColumnTransformer */\n",
       "  background-color: var(--sklearn-color-background);\n",
       "}\n",
       "\n",
       "/* Toggleable label */\n",
       "#sk-container-id-1 label.sk-toggleable__label {\n",
       "  cursor: pointer;\n",
       "  display: flex;\n",
       "  width: 100%;\n",
       "  margin-bottom: 0;\n",
       "  padding: 0.5em;\n",
       "  box-sizing: border-box;\n",
       "  text-align: center;\n",
       "  align-items: start;\n",
       "  justify-content: space-between;\n",
       "  gap: 0.5em;\n",
       "}\n",
       "\n",
       "#sk-container-id-1 label.sk-toggleable__label .caption {\n",
       "  font-size: 0.6rem;\n",
       "  font-weight: lighter;\n",
       "  color: var(--sklearn-color-text-muted);\n",
       "}\n",
       "\n",
       "#sk-container-id-1 label.sk-toggleable__label-arrow:before {\n",
       "  /* Arrow on the left of the label */\n",
       "  content: \"▸\";\n",
       "  float: left;\n",
       "  margin-right: 0.25em;\n",
       "  color: var(--sklearn-color-icon);\n",
       "}\n",
       "\n",
       "#sk-container-id-1 label.sk-toggleable__label-arrow:hover:before {\n",
       "  color: var(--sklearn-color-text);\n",
       "}\n",
       "\n",
       "/* Toggleable content - dropdown */\n",
       "\n",
       "#sk-container-id-1 div.sk-toggleable__content {\n",
       "  max-height: 0;\n",
       "  max-width: 0;\n",
       "  overflow: hidden;\n",
       "  text-align: left;\n",
       "  /* unfitted */\n",
       "  background-color: var(--sklearn-color-unfitted-level-0);\n",
       "}\n",
       "\n",
       "#sk-container-id-1 div.sk-toggleable__content.fitted {\n",
       "  /* fitted */\n",
       "  background-color: var(--sklearn-color-fitted-level-0);\n",
       "}\n",
       "\n",
       "#sk-container-id-1 div.sk-toggleable__content pre {\n",
       "  margin: 0.2em;\n",
       "  border-radius: 0.25em;\n",
       "  color: var(--sklearn-color-text);\n",
       "  /* unfitted */\n",
       "  background-color: var(--sklearn-color-unfitted-level-0);\n",
       "}\n",
       "\n",
       "#sk-container-id-1 div.sk-toggleable__content.fitted pre {\n",
       "  /* unfitted */\n",
       "  background-color: var(--sklearn-color-fitted-level-0);\n",
       "}\n",
       "\n",
       "#sk-container-id-1 input.sk-toggleable__control:checked~div.sk-toggleable__content {\n",
       "  /* Expand drop-down */\n",
       "  max-height: 200px;\n",
       "  max-width: 100%;\n",
       "  overflow: auto;\n",
       "}\n",
       "\n",
       "#sk-container-id-1 input.sk-toggleable__control:checked~label.sk-toggleable__label-arrow:before {\n",
       "  content: \"▾\";\n",
       "}\n",
       "\n",
       "/* Pipeline/ColumnTransformer-specific style */\n",
       "\n",
       "#sk-container-id-1 div.sk-label input.sk-toggleable__control:checked~label.sk-toggleable__label {\n",
       "  color: var(--sklearn-color-text);\n",
       "  background-color: var(--sklearn-color-unfitted-level-2);\n",
       "}\n",
       "\n",
       "#sk-container-id-1 div.sk-label.fitted input.sk-toggleable__control:checked~label.sk-toggleable__label {\n",
       "  background-color: var(--sklearn-color-fitted-level-2);\n",
       "}\n",
       "\n",
       "/* Estimator-specific style */\n",
       "\n",
       "/* Colorize estimator box */\n",
       "#sk-container-id-1 div.sk-estimator input.sk-toggleable__control:checked~label.sk-toggleable__label {\n",
       "  /* unfitted */\n",
       "  background-color: var(--sklearn-color-unfitted-level-2);\n",
       "}\n",
       "\n",
       "#sk-container-id-1 div.sk-estimator.fitted input.sk-toggleable__control:checked~label.sk-toggleable__label {\n",
       "  /* fitted */\n",
       "  background-color: var(--sklearn-color-fitted-level-2);\n",
       "}\n",
       "\n",
       "#sk-container-id-1 div.sk-label label.sk-toggleable__label,\n",
       "#sk-container-id-1 div.sk-label label {\n",
       "  /* The background is the default theme color */\n",
       "  color: var(--sklearn-color-text-on-default-background);\n",
       "}\n",
       "\n",
       "/* On hover, darken the color of the background */\n",
       "#sk-container-id-1 div.sk-label:hover label.sk-toggleable__label {\n",
       "  color: var(--sklearn-color-text);\n",
       "  background-color: var(--sklearn-color-unfitted-level-2);\n",
       "}\n",
       "\n",
       "/* Label box, darken color on hover, fitted */\n",
       "#sk-container-id-1 div.sk-label.fitted:hover label.sk-toggleable__label.fitted {\n",
       "  color: var(--sklearn-color-text);\n",
       "  background-color: var(--sklearn-color-fitted-level-2);\n",
       "}\n",
       "\n",
       "/* Estimator label */\n",
       "\n",
       "#sk-container-id-1 div.sk-label label {\n",
       "  font-family: monospace;\n",
       "  font-weight: bold;\n",
       "  display: inline-block;\n",
       "  line-height: 1.2em;\n",
       "}\n",
       "\n",
       "#sk-container-id-1 div.sk-label-container {\n",
       "  text-align: center;\n",
       "}\n",
       "\n",
       "/* Estimator-specific */\n",
       "#sk-container-id-1 div.sk-estimator {\n",
       "  font-family: monospace;\n",
       "  border: 1px dotted var(--sklearn-color-border-box);\n",
       "  border-radius: 0.25em;\n",
       "  box-sizing: border-box;\n",
       "  margin-bottom: 0.5em;\n",
       "  /* unfitted */\n",
       "  background-color: var(--sklearn-color-unfitted-level-0);\n",
       "}\n",
       "\n",
       "#sk-container-id-1 div.sk-estimator.fitted {\n",
       "  /* fitted */\n",
       "  background-color: var(--sklearn-color-fitted-level-0);\n",
       "}\n",
       "\n",
       "/* on hover */\n",
       "#sk-container-id-1 div.sk-estimator:hover {\n",
       "  /* unfitted */\n",
       "  background-color: var(--sklearn-color-unfitted-level-2);\n",
       "}\n",
       "\n",
       "#sk-container-id-1 div.sk-estimator.fitted:hover {\n",
       "  /* fitted */\n",
       "  background-color: var(--sklearn-color-fitted-level-2);\n",
       "}\n",
       "\n",
       "/* Specification for estimator info (e.g. \"i\" and \"?\") */\n",
       "\n",
       "/* Common style for \"i\" and \"?\" */\n",
       "\n",
       ".sk-estimator-doc-link,\n",
       "a:link.sk-estimator-doc-link,\n",
       "a:visited.sk-estimator-doc-link {\n",
       "  float: right;\n",
       "  font-size: smaller;\n",
       "  line-height: 1em;\n",
       "  font-family: monospace;\n",
       "  background-color: var(--sklearn-color-background);\n",
       "  border-radius: 1em;\n",
       "  height: 1em;\n",
       "  width: 1em;\n",
       "  text-decoration: none !important;\n",
       "  margin-left: 0.5em;\n",
       "  text-align: center;\n",
       "  /* unfitted */\n",
       "  border: var(--sklearn-color-unfitted-level-1) 1pt solid;\n",
       "  color: var(--sklearn-color-unfitted-level-1);\n",
       "}\n",
       "\n",
       ".sk-estimator-doc-link.fitted,\n",
       "a:link.sk-estimator-doc-link.fitted,\n",
       "a:visited.sk-estimator-doc-link.fitted {\n",
       "  /* fitted */\n",
       "  border: var(--sklearn-color-fitted-level-1) 1pt solid;\n",
       "  color: var(--sklearn-color-fitted-level-1);\n",
       "}\n",
       "\n",
       "/* On hover */\n",
       "div.sk-estimator:hover .sk-estimator-doc-link:hover,\n",
       ".sk-estimator-doc-link:hover,\n",
       "div.sk-label-container:hover .sk-estimator-doc-link:hover,\n",
       ".sk-estimator-doc-link:hover {\n",
       "  /* unfitted */\n",
       "  background-color: var(--sklearn-color-unfitted-level-3);\n",
       "  color: var(--sklearn-color-background);\n",
       "  text-decoration: none;\n",
       "}\n",
       "\n",
       "div.sk-estimator.fitted:hover .sk-estimator-doc-link.fitted:hover,\n",
       ".sk-estimator-doc-link.fitted:hover,\n",
       "div.sk-label-container:hover .sk-estimator-doc-link.fitted:hover,\n",
       ".sk-estimator-doc-link.fitted:hover {\n",
       "  /* fitted */\n",
       "  background-color: var(--sklearn-color-fitted-level-3);\n",
       "  color: var(--sklearn-color-background);\n",
       "  text-decoration: none;\n",
       "}\n",
       "\n",
       "/* Span, style for the box shown on hovering the info icon */\n",
       ".sk-estimator-doc-link span {\n",
       "  display: none;\n",
       "  z-index: 9999;\n",
       "  position: relative;\n",
       "  font-weight: normal;\n",
       "  right: .2ex;\n",
       "  padding: .5ex;\n",
       "  margin: .5ex;\n",
       "  width: min-content;\n",
       "  min-width: 20ex;\n",
       "  max-width: 50ex;\n",
       "  color: var(--sklearn-color-text);\n",
       "  box-shadow: 2pt 2pt 4pt #999;\n",
       "  /* unfitted */\n",
       "  background: var(--sklearn-color-unfitted-level-0);\n",
       "  border: .5pt solid var(--sklearn-color-unfitted-level-3);\n",
       "}\n",
       "\n",
       ".sk-estimator-doc-link.fitted span {\n",
       "  /* fitted */\n",
       "  background: var(--sklearn-color-fitted-level-0);\n",
       "  border: var(--sklearn-color-fitted-level-3);\n",
       "}\n",
       "\n",
       ".sk-estimator-doc-link:hover span {\n",
       "  display: block;\n",
       "}\n",
       "\n",
       "/* \"?\"-specific style due to the `<a>` HTML tag */\n",
       "\n",
       "#sk-container-id-1 a.estimator_doc_link {\n",
       "  float: right;\n",
       "  font-size: 1rem;\n",
       "  line-height: 1em;\n",
       "  font-family: monospace;\n",
       "  background-color: var(--sklearn-color-background);\n",
       "  border-radius: 1rem;\n",
       "  height: 1rem;\n",
       "  width: 1rem;\n",
       "  text-decoration: none;\n",
       "  /* unfitted */\n",
       "  color: var(--sklearn-color-unfitted-level-1);\n",
       "  border: var(--sklearn-color-unfitted-level-1) 1pt solid;\n",
       "}\n",
       "\n",
       "#sk-container-id-1 a.estimator_doc_link.fitted {\n",
       "  /* fitted */\n",
       "  border: var(--sklearn-color-fitted-level-1) 1pt solid;\n",
       "  color: var(--sklearn-color-fitted-level-1);\n",
       "}\n",
       "\n",
       "/* On hover */\n",
       "#sk-container-id-1 a.estimator_doc_link:hover {\n",
       "  /* unfitted */\n",
       "  background-color: var(--sklearn-color-unfitted-level-3);\n",
       "  color: var(--sklearn-color-background);\n",
       "  text-decoration: none;\n",
       "}\n",
       "\n",
       "#sk-container-id-1 a.estimator_doc_link.fitted:hover {\n",
       "  /* fitted */\n",
       "  background-color: var(--sklearn-color-fitted-level-3);\n",
       "}\n",
       "</style><div id=\"sk-container-id-1\" class=\"sk-top-container\"><div class=\"sk-text-repr-fallback\"><pre>LinearRegression()</pre><b>In a Jupyter environment, please rerun this cell to show the HTML representation or trust the notebook. <br />On GitHub, the HTML representation is unable to render, please try loading this page with nbviewer.org.</b></div><div class=\"sk-container\" hidden><div class=\"sk-item\"><div class=\"sk-estimator fitted sk-toggleable\"><input class=\"sk-toggleable__control sk-hidden--visually\" id=\"sk-estimator-id-1\" type=\"checkbox\" checked><label for=\"sk-estimator-id-1\" class=\"sk-toggleable__label fitted sk-toggleable__label-arrow\"><div><div>LinearRegression</div></div><div><a class=\"sk-estimator-doc-link fitted\" rel=\"noreferrer\" target=\"_blank\" href=\"https://scikit-learn.org/1.6/modules/generated/sklearn.linear_model.LinearRegression.html\">?<span>Documentation for LinearRegression</span></a><span class=\"sk-estimator-doc-link fitted\">i<span>Fitted</span></span></div></label><div class=\"sk-toggleable__content fitted\"><pre>LinearRegression()</pre></div> </div></div></div></div>"
      ],
      "text/plain": [
       "LinearRegression()"
      ]
     },
     "execution_count": 49,
     "metadata": {},
     "output_type": "execute_result"
    }
   ],
   "source": [
    "reg.fit(x,y)  #train the model"
   ]
  },
  {
   "cell_type": "code",
   "execution_count": 50,
   "id": "c15224e3-d9d2-4901-a979-031d619b9464",
   "metadata": {},
   "outputs": [
    {
     "data": {
      "text/plain": [
       "array([[0.65258293]])"
      ]
     },
     "execution_count": 50,
     "metadata": {},
     "output_type": "execute_result"
    }
   ],
   "source": [
    "#m=reg.coef_\n",
    "#m"
   ]
  },
  {
   "cell_type": "code",
   "execution_count": 51,
   "id": "3c98b8c0-e629-491a-ac47-bb917e091700",
   "metadata": {},
   "outputs": [
    {
     "data": {
      "text/plain": [
       "array([5405.87555702])"
      ]
     },
     "execution_count": 51,
     "metadata": {},
     "output_type": "execute_result"
    }
   ],
   "source": [
    "#c=reg.intercept_\n",
    "#c"
   ]
  },
  {
   "cell_type": "code",
   "execution_count": 52,
   "id": "544117a0-71cc-4534-8366-9c9a90c5236f",
   "metadata": {},
   "outputs": [
    {
     "data": {
      "text/plain": [
       "array([[16304.0105628]])"
      ]
     },
     "execution_count": 52,
     "metadata": {},
     "output_type": "execute_result"
    }
   ],
   "source": [
    "#m*16700 + c  #y=mx+c\n"
   ]
  },
  {
   "cell_type": "code",
   "execution_count": 54,
   "id": "c6c67b59-2c49-42ea-a13d-c2d6152462a9",
   "metadata": {},
   "outputs": [
    {
     "name": "stderr",
     "output_type": "stream",
     "text": [
      "C:\\backend\\Lib\\site-packages\\sklearn\\utils\\validation.py:2739: UserWarning: X does not have valid feature names, but LinearRegression was fitted with feature names\n",
      "  warnings.warn(\n"
     ]
    },
    {
     "data": {
      "text/plain": [
       "array([[16304.0105628]])"
      ]
     },
     "execution_count": 54,
     "metadata": {},
     "output_type": "execute_result"
    }
   ],
   "source": [
    "reg.predict([[16700]])"
   ]
  },
  {
   "cell_type": "code",
   "execution_count": 56,
   "id": "3ae2ad9d-38a6-4a22-9fe3-b734b3bceed8",
   "metadata": {},
   "outputs": [
    {
     "data": {
      "text/plain": [
       "[<matplotlib.lines.Line2D at 0x270ed7e0050>]"
      ]
     },
     "execution_count": 56,
     "metadata": {},
     "output_type": "execute_result"
    },
    {
     "data": {
      "image/png": "[encoded data removed]",
      "text/plain": [
       "<Figure size 640x480 with 1 Axes>"
      ]
     },
     "metadata": {},
     "output_type": "display_data"
    }
   ],
   "source": [
    "pit.plot(x, reg.predict(x) , color=\"red\")"
   ]
  },
  {
   "cell_type": "code",
   "execution_count": 58,
   "id": "7c2ac1ff-9225-4960-94f6-22e3fbc643fb",
   "metadata": {},
   "outputs": [
    {
     "data": {
      "text/plain": [
       "[<matplotlib.lines.Line2D at 0x270ed884f50>]"
      ]
     },
     "execution_count": 58,
     "metadata": {},
     "output_type": "execute_result"
    },
    {
     "data": {
      "image/png": "[encoded data removed]",
      "text/plain": [
       "<Figure size 640x480 with 1 Axes>"
      ]
     },
     "metadata": {},
     "output_type": "display_data"
    }
   ],
   "source": [
    "pit.scatter(df['Starting (USD)'],df['Ending (USD)'])\n",
    "pit.xlabel('Starting (USD)')\n",
    "pit.ylabel(['Ending (USD)'])\n",
    "pit.title([\"NASDAQ100 Stock prices\"])\n",
    "pit.scatter(x.mean() , y.mean() ,color=\"red\")\n",
    "pit.plot(x, reg.predict(x) , color=\"red\")"
   ]
  },
  {
   "cell_type": "code",
   "execution_count": null,
   "id": "06bbb6c5-cc35-45cf-ad4f-5fa012e6d737",
   "metadata": {},
   "outputs": [],
   "source": []
  }
 ],
 "metadata": {
  "kernelspec": {
   "display_name": "Python 3 (ipykernel)",
   "language": "python",
   "name": "python3"
  },
  "language_info": {
   "codemirror_mode": {
    "name": "ipython",
    "version": 3
   },
   "file_extension": ".py",
   "mimetype": "text/x-python",
   "name": "python",
   "nbconvert_exporter": "python",
   "pygments_lexer": "ipython3",
   "version": "3.13.5"
  }
 },
 "nbformat": 4,
 "nbformat_minor": 5
}
